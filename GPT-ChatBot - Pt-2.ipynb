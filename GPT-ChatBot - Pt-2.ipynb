{
 "cells": [
  {
   "cell_type": "code",
   "execution_count": 14,
   "id": "6a3dc8c4",
   "metadata": {},
   "outputs": [
    {
     "name": "stdout",
     "output_type": "stream",
     "text": [
      "Requirement already satisfied: langchain in c:\\users\\user\\anaconda\\lib\\site-packages (0.0.346)\n",
      "Requirement already satisfied: PyYAML>=5.3 in c:\\users\\user\\anaconda\\lib\\site-packages (from langchain) (6.0)\n",
      "Requirement already satisfied: aiohttp<4.0.0,>=3.8.3 in c:\\users\\user\\anaconda\\lib\\site-packages (from langchain) (3.9.1)\n",
      "Requirement already satisfied: async-timeout<5.0.0,>=4.0.0 in c:\\users\\user\\anaconda\\lib\\site-packages (from langchain) (4.0.1)\n",
      "Requirement already satisfied: jsonpatch<2.0,>=1.33 in c:\\users\\user\\anaconda\\lib\\site-packages (from langchain) (1.33)\n",
      "Requirement already satisfied: tenacity<9.0.0,>=8.1.0 in c:\\users\\user\\anaconda\\lib\\site-packages (from langchain) (8.2.3)\n",
      "Requirement already satisfied: requests<3,>=2 in c:\\users\\user\\anaconda\\lib\\site-packages (from langchain) (2.31.0)\n",
      "Requirement already satisfied: langsmith<0.1.0,>=0.0.63 in c:\\users\\user\\anaconda\\lib\\site-packages (from langchain) (0.0.92)\n",
      "Requirement already satisfied: SQLAlchemy<3,>=1.4 in c:\\users\\user\\anaconda\\lib\\site-packages (from langchain) (1.4.32)\n",
      "Requirement already satisfied: pydantic<3,>=1 in c:\\users\\user\\anaconda\\lib\\site-packages (from langchain) (2.5.2)\n",
      "Requirement already satisfied: anyio<4.0 in c:\\users\\user\\anaconda\\lib\\site-packages (from langchain) (3.5.0)\n",
      "Requirement already satisfied: numpy<2,>=1 in c:\\users\\user\\anaconda\\lib\\site-packages (from langchain) (1.26.4)\n",
      "Requirement already satisfied: dataclasses-json<0.7,>=0.5.7 in c:\\users\\user\\anaconda\\lib\\site-packages (from langchain) (0.6.3)\n",
      "Requirement already satisfied: langchain-core<0.1,>=0.0.10 in c:\\users\\user\\anaconda\\lib\\site-packages (from langchain) (0.0.13)\n",
      "Requirement already satisfied: frozenlist>=1.1.1 in c:\\users\\user\\anaconda\\lib\\site-packages (from aiohttp<4.0.0,>=3.8.3->langchain) (1.2.0)\n",
      "Requirement already satisfied: multidict<7.0,>=4.5 in c:\\users\\user\\anaconda\\lib\\site-packages (from aiohttp<4.0.0,>=3.8.3->langchain) (5.1.0)\n",
      "Requirement already satisfied: yarl<2.0,>=1.0 in c:\\users\\user\\anaconda\\lib\\site-packages (from aiohttp<4.0.0,>=3.8.3->langchain) (1.6.3)\n",
      "Requirement already satisfied: attrs>=17.3.0 in c:\\users\\user\\anaconda\\lib\\site-packages (from aiohttp<4.0.0,>=3.8.3->langchain) (21.4.0)\n",
      "Requirement already satisfied: aiosignal>=1.1.2 in c:\\users\\user\\anaconda\\lib\\site-packages (from aiohttp<4.0.0,>=3.8.3->langchain) (1.2.0)\n",
      "Requirement already satisfied: sniffio>=1.1 in c:\\users\\user\\anaconda\\lib\\site-packages (from anyio<4.0->langchain) (1.2.0)\n",
      "Requirement already satisfied: idna>=2.8 in c:\\users\\user\\anaconda\\lib\\site-packages (from anyio<4.0->langchain) (3.6)\n",
      "Requirement already satisfied: typing-extensions>=3.6.5 in c:\\users\\user\\anaconda\\lib\\site-packages (from async-timeout<5.0.0,>=4.0.0->langchain) (4.8.0)\n",
      "Requirement already satisfied: marshmallow<4.0.0,>=3.18.0 in c:\\users\\user\\anaconda\\lib\\site-packages (from dataclasses-json<0.7,>=0.5.7->langchain) (3.20.1)\n",
      "Requirement already satisfied: typing-inspect<1,>=0.4.0 in c:\\users\\user\\anaconda\\lib\\site-packages (from dataclasses-json<0.7,>=0.5.7->langchain) (0.9.0)\n",
      "Requirement already satisfied: jsonpointer>=1.9 in c:\\users\\user\\anaconda\\lib\\site-packages (from jsonpatch<2.0,>=1.33->langchain) (2.4)\n",
      "Requirement already satisfied: packaging<24.0,>=23.2 in c:\\users\\user\\anaconda\\lib\\site-packages (from langchain-core<0.1,>=0.0.10->langchain) (23.2)\n",
      "Requirement already satisfied: pydantic-core==2.14.5 in c:\\users\\user\\anaconda\\lib\\site-packages (from pydantic<3,>=1->langchain) (2.14.5)\n",
      "Requirement already satisfied: annotated-types>=0.4.0 in c:\\users\\user\\anaconda\\lib\\site-packages (from pydantic<3,>=1->langchain) (0.6.0)\n",
      "Requirement already satisfied: charset-normalizer<4,>=2 in c:\\users\\user\\anaconda\\lib\\site-packages (from requests<3,>=2->langchain) (3.3.2)\n",
      "Requirement already satisfied: urllib3<3,>=1.21.1 in c:\\users\\user\\anaconda\\lib\\site-packages (from requests<3,>=2->langchain) (2.2.0)\n",
      "Requirement already satisfied: certifi>=2017.4.17 in c:\\users\\user\\anaconda\\lib\\site-packages (from requests<3,>=2->langchain) (2024.2.2)\n",
      "Requirement already satisfied: greenlet!=0.4.17 in c:\\users\\user\\anaconda\\lib\\site-packages (from SQLAlchemy<3,>=1.4->langchain) (1.1.1)\n",
      "Requirement already satisfied: mypy-extensions>=0.3.0 in c:\\users\\user\\anaconda\\lib\\site-packages (from typing-inspect<1,>=0.4.0->dataclasses-json<0.7,>=0.5.7->langchain) (1.0.0)\n"
     ]
    }
   ],
   "source": [
    "!pip install langchain"
   ]
  },
  {
   "cell_type": "code",
   "execution_count": null,
   "id": "380b77a4",
   "metadata": {},
   "outputs": [],
   "source": [
    "pip install --upgrade langchain"
   ]
  },
  {
   "cell_type": "code",
   "execution_count": 4,
   "id": "a58844c1",
   "metadata": {},
   "outputs": [
    {
     "name": "stdout",
     "output_type": "stream",
     "text": [
      "Requirement already satisfied: openai in c:\\users\\user\\anaconda\\lib\\site-packages (1.14.0)\n",
      "Requirement already satisfied: httpx<1,>=0.23.0 in c:\\users\\user\\anaconda\\lib\\site-packages (from openai) (0.25.2)\n",
      "Requirement already satisfied: typing-extensions<5,>=4.7 in c:\\users\\user\\anaconda\\lib\\site-packages (from openai) (4.8.0)\n",
      "Requirement already satisfied: anyio<5,>=3.5.0 in c:\\users\\user\\anaconda\\lib\\site-packages (from openai) (3.5.0)\n",
      "Requirement already satisfied: tqdm>4 in c:\\users\\user\\anaconda\\lib\\site-packages (from openai) (4.66.2)\n",
      "Requirement already satisfied: distro<2,>=1.7.0 in c:\\users\\user\\anaconda\\lib\\site-packages (from openai) (1.8.0)\n",
      "Requirement already satisfied: sniffio in c:\\users\\user\\anaconda\\lib\\site-packages (from openai) (1.2.0)\n",
      "Requirement already satisfied: pydantic<3,>=1.9.0 in c:\\users\\user\\anaconda\\lib\\site-packages (from openai) (2.5.2)\n",
      "Requirement already satisfied: idna>=2.8 in c:\\users\\user\\anaconda\\lib\\site-packages (from anyio<5,>=3.5.0->openai) (3.6)\n",
      "Requirement already satisfied: certifi in c:\\users\\user\\anaconda\\lib\\site-packages (from httpx<1,>=0.23.0->openai) (2024.2.2)\n",
      "Requirement already satisfied: httpcore==1.* in c:\\users\\user\\anaconda\\lib\\site-packages (from httpx<1,>=0.23.0->openai) (1.0.2)\n",
      "Requirement already satisfied: h11<0.15,>=0.13 in c:\\users\\user\\anaconda\\lib\\site-packages (from httpcore==1.*->httpx<1,>=0.23.0->openai) (0.14.0)\n",
      "Requirement already satisfied: annotated-types>=0.4.0 in c:\\users\\user\\anaconda\\lib\\site-packages (from pydantic<3,>=1.9.0->openai) (0.6.0)\n",
      "Requirement already satisfied: pydantic-core==2.14.5 in c:\\users\\user\\anaconda\\lib\\site-packages (from pydantic<3,>=1.9.0->openai) (2.14.5)\n",
      "Requirement already satisfied: colorama in c:\\users\\user\\anaconda\\lib\\site-packages (from tqdm>4->openai) (0.4.6)\n",
      "Note: you may need to restart the kernel to use updated packages.\n"
     ]
    }
   ],
   "source": [
    "pip install openai"
   ]
  },
  {
   "cell_type": "code",
   "execution_count": 5,
   "id": "b171f4ed",
   "metadata": {},
   "outputs": [
    {
     "name": "stdout",
     "output_type": "stream",
     "text": [
      "Requirement already satisfied: tiktoken in c:\\users\\user\\anaconda\\lib\\site-packages (0.5.2)\n",
      "Requirement already satisfied: requests>=2.26.0 in c:\\users\\user\\anaconda\\lib\\site-packages (from tiktoken) (2.31.0)\n",
      "Requirement already satisfied: regex>=2022.1.18 in c:\\users\\user\\anaconda\\lib\\site-packages (from tiktoken) (2022.3.15)\n",
      "Requirement already satisfied: charset-normalizer<4,>=2 in c:\\users\\user\\anaconda\\lib\\site-packages (from requests>=2.26.0->tiktoken) (3.3.2)\n",
      "Requirement already satisfied: urllib3<3,>=1.21.1 in c:\\users\\user\\anaconda\\lib\\site-packages (from requests>=2.26.0->tiktoken) (2.2.0)\n",
      "Requirement already satisfied: idna<4,>=2.5 in c:\\users\\user\\anaconda\\lib\\site-packages (from requests>=2.26.0->tiktoken) (3.6)\n",
      "Requirement already satisfied: certifi>=2017.4.17 in c:\\users\\user\\anaconda\\lib\\site-packages (from requests>=2.26.0->tiktoken) (2024.2.2)\n",
      "Note: you may need to restart the kernel to use updated packages.\n"
     ]
    }
   ],
   "source": [
    "pip install tiktoken"
   ]
  },
  {
   "cell_type": "code",
   "execution_count": 6,
   "id": "f25655cd",
   "metadata": {},
   "outputs": [
    {
     "name": "stdout",
     "output_type": "stream",
     "text": [
      "Requirement already satisfied: faiss-cpu in c:\\users\\user\\anaconda\\lib\\site-packages (1.7.4)\n",
      "Note: you may need to restart the kernel to use updated packages.\n"
     ]
    }
   ],
   "source": [
    "pip install faiss-cpu"
   ]
  },
  {
   "cell_type": "code",
   "execution_count": 7,
   "id": "7c643670",
   "metadata": {},
   "outputs": [
    {
     "name": "stdout",
     "output_type": "stream",
     "text": [
      "\n",
      "Note: you may need to restart the kernel to use updated packages.\n"
     ]
    },
    {
     "name": "stderr",
     "output_type": "stream",
     "text": [
      "usage: conda-script.py [-h] [-V] command ...\n",
      "conda-script.py: error: unrecognized arguments: panel\n"
     ]
    }
   ],
   "source": [
    "conda install -c pyviz panel"
   ]
  },
  {
   "cell_type": "code",
   "execution_count": 3,
   "id": "6728200f",
   "metadata": {},
   "outputs": [
    {
     "name": "stderr",
     "output_type": "stream",
     "text": [
      "E:\\ProgramData\\Anaconda3\\lib\\site-packages\\scipy\\__init__.py:146: UserWarning: A NumPy version >=1.16.5 and <1.23.0 is required for this version of SciPy (detected version 1.26.4\n",
      "  warnings.warn(f\"A NumPy version >={np_minversion} and <{np_maxversion}\"\n",
      "[nltk_data] Downloading package punkt to\n",
      "[nltk_data]     C:\\Users\\sendt\\AppData\\Roaming\\nltk_data...\n",
      "[nltk_data]   Package punkt is already up-to-date!\n"
     ]
    },
    {
     "data": {
      "text/plain": [
       "True"
      ]
     },
     "execution_count": 3,
     "metadata": {},
     "output_type": "execute_result"
    }
   ],
   "source": [
    "import nltk\n",
    "nltk.download('punkt')"
   ]
  },
  {
   "cell_type": "code",
   "execution_count": null,
   "id": "2c1f21f9",
   "metadata": {},
   "outputs": [],
   "source": [
    " pip install panel"
   ]
  },
  {
   "cell_type": "code",
   "execution_count": 9,
   "id": "935240af",
   "metadata": {},
   "outputs": [
    {
     "name": "stdout",
     "output_type": "stream",
     "text": [
      "Requirement already satisfied: pypdf in c:\\users\\user\\anaconda\\lib\\site-packages (4.1.0)Note: you may need to restart the kernel to use updated packages.\n",
      "\n",
      "Requirement already satisfied: typing_extensions>=3.7.4.3 in c:\\users\\user\\anaconda\\lib\\site-packages (from pypdf) (4.8.0)\n"
     ]
    }
   ],
   "source": [
    "pip install pypdf"
   ]
  },
  {
   "cell_type": "code",
   "execution_count": 11,
   "id": "c5e731f7",
   "metadata": {},
   "outputs": [
    {
     "name": "stdout",
     "output_type": "stream",
     "text": [
      "Requirement already satisfied: langchain-openai in c:\\users\\user\\anaconda\\lib\\site-packages (0.0.8)\n",
      "Requirement already satisfied: tiktoken<1,>=0.5.2 in c:\\users\\user\\anaconda\\lib\\site-packages (from langchain-openai) (0.5.2)\n",
      "Collecting langchain-core<0.2.0,>=0.1.27\n",
      "  Using cached langchain_core-0.1.32-py3-none-any.whl (260 kB)\n",
      "Requirement already satisfied: openai<2.0.0,>=1.10.0 in c:\\users\\user\\anaconda\\lib\\site-packages (from langchain-openai) (1.14.0)\n",
      "Requirement already satisfied: tenacity<9.0.0,>=8.1.0 in c:\\users\\user\\anaconda\\lib\\site-packages (from langchain-core<0.2.0,>=0.1.27->langchain-openai) (8.2.3)\n",
      "Collecting langsmith<0.2.0,>=0.1.0\n",
      "  Downloading langsmith-0.1.27-py3-none-any.whl (68 kB)\n",
      "Requirement already satisfied: requests<3,>=2 in c:\\users\\user\\anaconda\\lib\\site-packages (from langchain-core<0.2.0,>=0.1.27->langchain-openai) (2.31.0)\n",
      "Requirement already satisfied: jsonpatch<2.0,>=1.33 in c:\\users\\user\\anaconda\\lib\\site-packages (from langchain-core<0.2.0,>=0.1.27->langchain-openai) (1.33)\n",
      "Requirement already satisfied: pydantic<3,>=1 in c:\\users\\user\\anaconda\\lib\\site-packages (from langchain-core<0.2.0,>=0.1.27->langchain-openai) (2.5.2)\n",
      "Requirement already satisfied: PyYAML>=5.3 in c:\\users\\user\\anaconda\\lib\\site-packages (from langchain-core<0.2.0,>=0.1.27->langchain-openai) (6.0)\n",
      "Requirement already satisfied: anyio<5,>=3 in c:\\users\\user\\anaconda\\lib\\site-packages (from langchain-core<0.2.0,>=0.1.27->langchain-openai) (3.5.0)\n",
      "Requirement already satisfied: packaging<24.0,>=23.2 in c:\\users\\user\\anaconda\\lib\\site-packages (from langchain-core<0.2.0,>=0.1.27->langchain-openai) (23.2)\n",
      "Requirement already satisfied: sniffio>=1.1 in c:\\users\\user\\anaconda\\lib\\site-packages (from anyio<5,>=3->langchain-core<0.2.0,>=0.1.27->langchain-openai) (1.2.0)\n",
      "Requirement already satisfied: idna>=2.8 in c:\\users\\user\\anaconda\\lib\\site-packages (from anyio<5,>=3->langchain-core<0.2.0,>=0.1.27->langchain-openai) (3.6)\n",
      "Requirement already satisfied: jsonpointer>=1.9 in c:\\users\\user\\anaconda\\lib\\site-packages (from jsonpatch<2.0,>=1.33->langchain-core<0.2.0,>=0.1.27->langchain-openai) (2.4)\n",
      "Requirement already satisfied: orjson<4.0.0,>=3.9.14 in c:\\users\\user\\anaconda\\lib\\site-packages (from langsmith<0.2.0,>=0.1.0->langchain-core<0.2.0,>=0.1.27->langchain-openai) (3.9.15)\n",
      "Requirement already satisfied: httpx<1,>=0.23.0 in c:\\users\\user\\anaconda\\lib\\site-packages (from openai<2.0.0,>=1.10.0->langchain-openai) (0.25.2)\n",
      "Requirement already satisfied: distro<2,>=1.7.0 in c:\\users\\user\\anaconda\\lib\\site-packages (from openai<2.0.0,>=1.10.0->langchain-openai) (1.8.0)\n",
      "Requirement already satisfied: typing-extensions<5,>=4.7 in c:\\users\\user\\anaconda\\lib\\site-packages (from openai<2.0.0,>=1.10.0->langchain-openai) (4.8.0)\n",
      "Requirement already satisfied: tqdm>4 in c:\\users\\user\\anaconda\\lib\\site-packages (from openai<2.0.0,>=1.10.0->langchain-openai) (4.66.2)\n",
      "Requirement already satisfied: httpcore==1.* in c:\\users\\user\\anaconda\\lib\\site-packages (from httpx<1,>=0.23.0->openai<2.0.0,>=1.10.0->langchain-openai) (1.0.2)\n",
      "Requirement already satisfied: certifi in c:\\users\\user\\anaconda\\lib\\site-packages (from httpx<1,>=0.23.0->openai<2.0.0,>=1.10.0->langchain-openai) (2024.2.2)\n",
      "Requirement already satisfied: h11<0.15,>=0.13 in c:\\users\\user\\anaconda\\lib\\site-packages (from httpcore==1.*->httpx<1,>=0.23.0->openai<2.0.0,>=1.10.0->langchain-openai) (0.14.0)\n",
      "Requirement already satisfied: annotated-types>=0.4.0 in c:\\users\\user\\anaconda\\lib\\site-packages (from pydantic<3,>=1->langchain-core<0.2.0,>=0.1.27->langchain-openai) (0.6.0)\n",
      "Requirement already satisfied: pydantic-core==2.14.5 in c:\\users\\user\\anaconda\\lib\\site-packages (from pydantic<3,>=1->langchain-core<0.2.0,>=0.1.27->langchain-openai) (2.14.5)\n",
      "Requirement already satisfied: urllib3<3,>=1.21.1 in c:\\users\\user\\anaconda\\lib\\site-packages (from requests<3,>=2->langchain-core<0.2.0,>=0.1.27->langchain-openai) (2.2.0)\n",
      "Requirement already satisfied: charset-normalizer<4,>=2 in c:\\users\\user\\anaconda\\lib\\site-packages (from requests<3,>=2->langchain-core<0.2.0,>=0.1.27->langchain-openai) (3.3.2)\n",
      "Requirement already satisfied: regex>=2022.1.18 in c:\\users\\user\\anaconda\\lib\\site-packages (from tiktoken<1,>=0.5.2->langchain-openai) (2022.3.15)\n",
      "Requirement already satisfied: colorama in c:\\users\\user\\anaconda\\lib\\site-packages (from tqdm>4->openai<2.0.0,>=1.10.0->langchain-openai) (0.4.6)\n",
      "Installing collected packages: langsmith, langchain-core\n",
      "  Attempting uninstall: langsmith\n",
      "    Found existing installation: langsmith 0.0.92\n",
      "    Uninstalling langsmith-0.0.92:\n",
      "      Successfully uninstalled langsmith-0.0.92\n",
      "  Attempting uninstall: langchain-core\n",
      "    Found existing installation: langchain-core 0.0.13\n",
      "    Uninstalling langchain-core-0.0.13:\n",
      "      Successfully uninstalled langchain-core-0.0.13\n",
      "Successfully installed langchain-core-0.1.32 langsmith-0.1.27\n",
      "Note: you may need to restart the kernel to use updated packages.\n"
     ]
    },
    {
     "name": "stderr",
     "output_type": "stream",
     "text": [
      "ERROR: pip's dependency resolver does not currently take into account all the packages that are installed. This behaviour is the source of the following dependency conflicts.\n",
      "langchain 0.0.346 requires langchain-core<0.1,>=0.0.10, but you have langchain-core 0.1.32 which is incompatible.\n",
      "langchain 0.0.346 requires langsmith<0.1.0,>=0.0.63, but you have langsmith 0.1.27 which is incompatible.\n"
     ]
    }
   ],
   "source": [
    "pip install -U langchain-openai"
   ]
  },
  {
   "cell_type": "code",
   "execution_count": 12,
   "id": "64eeec6b",
   "metadata": {},
   "outputs": [
    {
     "name": "stdout",
     "output_type": "stream",
     "text": [
      "Defaulting to user installation because normal site-packages is not writeable\n",
      "Requirement already satisfied: Pillow in e:\\programdata\\anaconda3\\lib\\site-packages (9.0.1)\n",
      "Note: you may need to restart the kernel to use updated packages.\n"
     ]
    }
   ],
   "source": [
    "pip install Pillow"
   ]
  },
  {
   "cell_type": "markdown",
   "id": "4dabc787",
   "metadata": {},
   "source": [
    "# ChatBot"
   ]
  },
  {
   "cell_type": "code",
   "execution_count": 2,
   "id": "d821d625",
   "metadata": {},
   "outputs": [
    {
     "name": "stdout",
     "output_type": "stream",
     "text": [
      "Uploaded: D:/dalarna research/TDOK_2010-50.pdf\n",
      "Uploaded: D:/dalarna research/TDOK_2010-120.pdf\n",
      "Uploaded: D:/dalarna research/TDOK_2010-202.pdf\n",
      "Uploaded: D:/dalarna research/TDOK_2015-0430.pdf\n",
      "Uploaded: D:/dalarna research/TDOK_2016-0077.pdf\n",
      "Uploaded: D:/dalarna research/TDOK_2018-0371.pdf\n",
      "Uploaded: D:/dalarna research/TDOK_2020-0216.pdf\n"
     ]
    }
   ],
   "source": [
    "import tkinter as tk\n",
    "from tkinter import filedialog, messagebox\n",
    "from PIL import Image, ImageTk  # Import PIL library for image handling\n",
    "from PyPDF2 import PdfReader\n",
    "from langchain.embeddings.openai import OpenAIEmbeddings\n",
    "from langchain_openai import OpenAIEmbeddings\n",
    "from langchain.text_splitter import CharacterTextSplitter\n",
    "from langchain.vectorstores import FAISS\n",
    "from langchain.chains.question_answering import load_qa_chain\n",
    "from langchain.llms import OpenAI\n",
    "from datetime import datetime\n",
    "import os\n",
    "\n",
    "os.environ[\"OPENAI_API_KEY\"] = \"sk-\"\n",
    "\n",
    "class PDFChatbotGUI:\n",
    "    def __init__(self, master, openai_api_key):\n",
    "        self.master = master\n",
    "        self.master.title(\"T Chatbot\")\n",
    "        self.master.geometry(\"600x500\")\n",
    "        self.openai_api_key = openai_api_key\n",
    "        self.selected_files = []\n",
    "\n",
    "        # Styling\n",
    "        self.bg_color = \"#f0f0f0\"\n",
    "        self.button_color = \"#4CAF50\"\n",
    "        self.button_fg_color = \"white\"\n",
    "        self.text_color = \"#333333\"\n",
    "        #self.logo_path = \"trafikverket_logo.png\"  # Path to the Trafikverket logo image\n",
    "\n",
    "        # Labels\n",
    "        self.file_path_label = tk.Label(master, text=\"PDF File Path:\", bg=self.bg_color, fg=self.text_color, font=(\"Helvetica\", 12, \"bold\"))\n",
    "        self.file_path_label.grid(row=0, column=0, pady=10, padx=20, sticky=\"w\")\n",
    "\n",
    "        # Upload Button\n",
    "        self.upload_button = tk.Button(master, text=\"Upload Files\", command=self.upload_files, bg=self.button_color, fg=self.button_fg_color, font=(\"Helvetica\", 10, \"bold\"), relief=\"raised\", bd=3)\n",
    "        self.upload_button.grid(row=0, column=1, pady=10, padx=20)\n",
    "\n",
    "        # Question Label\n",
    "        self.question_label = tk.Label(master, text=\"Enter your question:\", bg=self.bg_color, fg=self.text_color, font=(\"Helvetica\", 12, \"bold\"))\n",
    "        self.question_label.grid(row=1, column=0, pady=10, padx=20, sticky=\"w\")\n",
    "\n",
    "        # Question Entry\n",
    "        self.question_entry = tk.Entry(master, width=50, bg=\"white\", font=(\"Helvetica\", 10))\n",
    "        self.question_entry.grid(row=1, column=1, pady=10, padx=20)\n",
    "\n",
    "        # Chat Text\n",
    "        self.chat_text = tk.Text(master, height=15, width=70, wrap=\"word\", bg=\"white\", font=(\"Helvetica\", 10))\n",
    "        self.chat_text.grid(row=3, column=0, columnspan=2, pady=20, padx=20, sticky=\"nsew\")\n",
    "        self.chat_text.tag_configure(\"highlight\", background=\"#80DEEA\")  # Light blue highlight color\n",
    "\n",
    "        # Loading Button\n",
    "        self.loading_button = tk.Button(master, text=\"Loading...\", state=\"disabled\", bg=self.button_color, fg=self.button_fg_color, font=(\"Helvetica\", 10, \"bold\"), relief=\"raised\", bd=3)\n",
    "        self.loading_button.grid(row=4, column=0, columnspan=2, pady=10, padx=20, sticky=\"we\")  # Initially hidden\n",
    "\n",
    "        # Ask Button\n",
    "        self.ask_button = tk.Button(master, text=\"Ask\", command=self.ask_question, bg=self.button_color, fg=self.button_fg_color, font=(\"Helvetica\", 10, \"bold\"), relief=\"raised\", bd=3)\n",
    "        self.ask_button.grid(row=2, column=1, pady=10, padx=20)\n",
    "        self.ask_button.grid_remove()  # Initially hidden\n",
    "\n",
    "        # Load and display the Trafikverket logo in the chat text background\n",
    "        #self.load_logo()\n",
    "\n",
    "        # Initialize attributes\n",
    "        self.embeddings = None\n",
    "        self.new_model = 'gpt-3.5-turbo-instruct'\n",
    "        self.chain = None\n",
    "\n",
    "\n",
    "    def upload_files(self):\n",
    "        self.show_loading_button()\n",
    "        self.file_names = []\n",
    "        self.raw_texts = []\n",
    "        self.document_searches = []\n",
    "        files = filedialog.askopenfilenames(filetypes=[(\"PDF Files\", \"*.pdf\")])\n",
    "        for file_path in files:\n",
    "            try:\n",
    "                self.file_names.append(os.path.basename(file_path))\n",
    "                pdf_reader = PdfReader(file_path)\n",
    "                raw_text = ''\n",
    "                for page in pdf_reader.pages:\n",
    "                    content = page.extract_text()\n",
    "                    if content:\n",
    "                        raw_text += content\n",
    "                self.raw_texts.append(raw_text)\n",
    "                print(\"Uploaded:\", file_path)\n",
    "            except Exception as e:\n",
    "                messagebox.showerror(\"Error\", f\"An error occurred while processing the PDF file '{file}': {e}\")\n",
    "        self.process_pdf()\n",
    "\n",
    "    def process_pdf(self):\n",
    "        self.show_loading_button()\n",
    "        self.document_searches = []\n",
    "        for raw_text in self.raw_texts:\n",
    "            if raw_text:\n",
    "                text_splitter = CharacterTextSplitter(\n",
    "                    separator=\"\\n\",\n",
    "                    chunk_size=800,\n",
    "                    chunk_overlap=200,\n",
    "                    length_function=len,\n",
    "                )\n",
    "                texts = text_splitter.split_text(raw_text)\n",
    "                embeddings = OpenAIEmbeddings()\n",
    "                document_search = FAISS.from_texts(texts, embeddings)\n",
    "                self.document_searches.append(document_search)\n",
    "            self.load_qa_chain()\n",
    "\n",
    "    def load_qa_chain(self):\n",
    "        try:\n",
    "            if not self.document_searches:  # If document_searches is empty\n",
    "                messagebox.showerror(\"Error\", \"No PDF documents loaded.\")\n",
    "                return\n",
    "            self.chain = load_qa_chain(OpenAI(api_key=self.openai_api_key), chain_type=\"stuff\")\n",
    "            self.ask_button.grid()  # Display the Ask button\n",
    "            self.chat_text.insert(tk.END, \"Chatbot: PDF loaded successfully. You can start chatting.\\n\")\n",
    "        except Exception as e:\n",
    "            messagebox.showerror(\"Error\", f\"An error occurred while loading the question answering chain: {e}\")\n",
    "\n",
    "    def ask_question(self):\n",
    "        question = self.question_entry.get()  # Fetch question from entry widget\n",
    "        if not question:\n",
    "            messagebox.showerror(\"Error\", \"Please enter a question.\")\n",
    "            return\n",
    "        try:\n",
    "            self.show_loading_button()\n",
    "            all_responses = []\n",
    "            for file_name, doc_search in zip(self.file_names, self.document_searches):\n",
    "                docs = doc_search.similarity_search(question)\n",
    "                response = self.chain.run(input_documents=docs, question=question)\n",
    "                all_responses.append((file_name, response))\n",
    "            for file_name, response in all_responses:\n",
    "                self.chat_text.insert(tk.END, f\"File {file_name}: {response}\\n\")\n",
    "            self.chat_text.insert(tk.END, f\"You: {question}\\n\")\n",
    "\n",
    "            current_time = datetime.now().strftime(\"%Y-%m-%d %H:%M:%S\")\n",
    "            with open(\"question_answers.txt\", \"a\") as file:\n",
    "                file.write(f\"Time: {current_time}\\n\")\n",
    "                file.write(f\"Question: {question}\\n\")\n",
    "                for file_name, response in all_responses:\n",
    "                    file.write(f\"File {file_name}: {response}\\n\")\n",
    "                file.write(\"\\n\")\n",
    "        except Exception as e:\n",
    "            messagebox.showerror(\"Error\", f\"An error occurred during question answering: {e}\")\n",
    "        finally:\n",
    "            self.hide_loading_button()\n",
    "\n",
    "    def show_loading_button(self):\n",
    "        self.ask_button.grid_remove()  # Hide Ask button\n",
    "        self.loading_button.grid(row=4, column=0, columnspan=2)  # Display loading button\n",
    "\n",
    "    def hide_loading_button(self):\n",
    "        self.loading_button.grid_remove()  # Hide loading button\n",
    "        self.ask_button.grid()  # Display Ask button\n",
    "\n",
    "def main():\n",
    "    root = tk.Tk()\n",
    "    openai_api_key = \"sk\"\n",
    "    app = PDFChatbotGUI(root, openai_api_key)\n",
    "    root.mainloop()\n",
    "\n",
    "if __name__ == \"__main__\":\n",
    "    main()\n"
   ]
  },
  {
   "cell_type": "code",
   "execution_count": null,
   "id": "a4809fe2",
   "metadata": {},
   "outputs": [],
   "source": []
  }
 ],
 "metadata": {
  "kernelspec": {
   "display_name": "Python 3 (ipykernel)",
   "language": "python",
   "name": "python3"
  },
  "language_info": {
   "codemirror_mode": {
    "name": "ipython",
    "version": 3
   },
   "file_extension": ".py",
   "mimetype": "text/x-python",
   "name": "python",
   "nbconvert_exporter": "python",
   "pygments_lexer": "ipython3",
   "version": "3.9.12"
  }
 },
 "nbformat": 4,
 "nbformat_minor": 5
}
